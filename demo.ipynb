{
 "cells": [
  {
   "cell_type": "markdown",
   "id": "e5960a96",
   "metadata": {},
   "source": [
    "This notebook demonstrates how to use the \"Stock Price Agent\" to retrieve real-time stock prices and historical data for a given ticker.\n",
    "\n",
    "The agent includes a guardrail to ensure it only responds to relevant questions about stock prices and historical market data.\n",
    "\n",
    "There are three tools available:\n",
    "1. `retrieve_realtime_stock_price` – Retrieves the current stock price for a specified ticker.\n",
    "2. `retrieve_historical_stock_price` – Retrieves historical stock data for a specified ticker and date range.\n",
    "3. `get_current_datetime` – Returns the current UTC time, which helps the LLM determine the appropriate course of action based on temporal context.\n",
    "\n",
    "## ⚠️ Note:\n",
    "Jupyter notebooks doesn't support streaming output, so the agent will not be able to stream the response. Instead, it will return the final answer after processing the input.\n",
    "\n",
    "If you want to see the agent in action with streaming output, please execute the following command:\n",
    "```bash\n",
    "task ir1 #For acceptance criteria 1\n",
    "```\n",
    "\n",
    "```bash\n",
    "task ir2 #For acceptance criteria 2\n",
    "```"
   ]
  },
  {
   "cell_type": "code",
   "execution_count": null,
   "id": "bae0aa02",
   "metadata": {},
   "outputs": [
    {
     "name": "stdout",
     "output_type": "stream",
     "text": [
      "Status Code: 200\n",
      "Response Body: [Tool Call] retrieve_realtime_stock_price with input None\n",
      "[AI] The current real-time stock price for Amazon (ticker: AMZN) is $211.99.\n",
      "\n",
      "\n",
      "---\n",
      "\n",
      "Status Code: 200\n",
      "Response Body: [Tool Call] get_current_datetime with input None\n",
      "[Tool Call] retrieve_historical_stock_price with input None\n",
      "[AI] Based on the historical data, here are the key stock price details for Amazon (AMZN) in Q4 2024:\n",
      "[AI] \n",
      "[AI] - The opening price on October 1, 2024 was $184.90\n",
      "[AI] - The lowest price during the quarter was $180.25 on October 7, 2024\n",
      "[AI] - The highest price during the quarter was $233.00 on December 16, 2024\n",
      "[AI] - The closing price on December 31, 2024 was $221.30\n",
      "[AI] \n",
      "[AI] Let me know if you need any clarification or have additional questions!\n",
      "\n"
     ]
    }
   ],
   "source": [
    "import requests\n",
    "url = \"https://vvpjwjbctmecg6gddg4o5e4jl40rldqq.lambda-url.eu-west-2.on.aws/api/stock-agent/invoke\"\n",
    "\n",
    "# Acceptance criteria 1\n",
    "data = {\"query\": \"What is the stock price for Amazon right now?\"}\n",
    "print(\"User acceptance criteria 1:\")\n",
    "response = requests.post(url, json=data, headers={\n",
    "    \"Content-Type\": \"application/json\",\n",
    "    \"X-API-KEY\": \"sk-1a2b3c4d5e6f7g8h9i0j\"\n",
    "})\n",
    "\n",
    "print(\"Status Code:\", response.status_code)\n",
    "print(\"Response Body:\", response.text)\n",
    "\n",
    "print(\"\\n---\\n\")\n",
    "\n",
    "# Acceptance criteria 2\n",
    "print(\"User acceptance criteria 2:\")\n",
    "data = {\"query\": \"What were the stock prices for Amazon in Q4 last year?\"}\n",
    "response = requests.post(url, json=data, headers={\n",
    "    \"Content-Type\": \"application/json\",\n",
    "    \"X-API-KEY\": \"sk-1a2b3c4d5e6f7g8h9i0j\"\n",
    "})\n",
    "\n",
    "print(\"Status Code:\", response.status_code)\n",
    "print(\"Response Body:\", response.text)"
   ]
  },
  {
   "cell_type": "code",
   "execution_count": 6,
   "id": "a0c44684",
   "metadata": {},
   "outputs": [
    {
     "name": "stdout",
     "output_type": "stream",
     "text": [
      "Guardrail validation:\n",
      "Status Code: 200\n",
      "Response Body: [AI] I apologize, but I do not have information about company leadership details like the CEO of Amazon. My expertise is limited to providing financial data and market information. I would not be able to reliably answer questions about specific company executives or leadership. Perhaps you could try searching for that information online or through other resources focused on business news and corporate leadership.\n",
      "\n"
     ]
    }
   ],
   "source": [
    "import requests\n",
    "url = \"https://vvpjwjbctmecg6gddg4o5e4jl40rldqq.lambda-url.eu-west-2.on.aws/api/stock-agent/invoke\"\n",
    "\n",
    "# Guardrail validation\n",
    "data = {\"query\": \"Who is the CEO of Amazon?\"}\n",
    "print(\"Guardrail validation:\")\n",
    "response = requests.post(url, json=data, headers={\n",
    "    \"Content-Type\": \"application/json\",\n",
    "    \"X-API-KEY\": \"sk-1a2b3c4d5e6f7g8h9i0j\"\n",
    "})\n",
    "\n",
    "print(\"Status Code:\", response.status_code)\n",
    "print(\"Response Body:\", response.text)"
   ]
  },
  {
   "cell_type": "code",
   "execution_count": 1,
   "id": "f6e6f763",
   "metadata": {},
   "outputs": [
    {
     "data": {
      "image/png": "[encoded data removed]",
      "text/plain": [
       "<IPython.core.display.Image object>"
      ]
     },
     "metadata": {},
     "output_type": "display_data"
    }
   ],
   "source": [
    "from src.agents.stock_agent import agent_app\n",
    "from IPython.display import Image, display\n",
    "\n",
    "display(Image(agent_app.get_graph(xray=True).draw_mermaid_png()))"
   ]
  }
 ],
 "metadata": {
  "kernelspec": {
   "display_name": ".venv",
   "language": "python",
   "name": "python3"
  },
  "language_info": {
   "codemirror_mode": {
    "name": "ipython",
    "version": 3
   },
   "file_extension": ".py",
   "mimetype": "text/x-python",
   "name": "python",
   "nbconvert_exporter": "python",
   "pygments_lexer": "ipython3",
   "version": "3.13.3"
  }
 },
 "nbformat": 4,
 "nbformat_minor": 5
}
